{
 "cells": [
  {
   "cell_type": "code",
   "execution_count": 15,
   "id": "b0c88dc4",
   "metadata": {},
   "outputs": [
    {
     "ename": "ModuleNotFoundError",
     "evalue": "No module named 'pyoti.core'",
     "output_type": "error",
     "traceback": [
      "\u001b[1;31m---------------------------------------------------------------------------\u001b[0m",
      "\u001b[1;31mModuleNotFoundError\u001b[0m                       Traceback (most recent call last)",
      "Cell \u001b[1;32mIn[15], line 13\u001b[0m\n\u001b[0;32m     10\u001b[0m sys\u001b[38;5;241m.\u001b[39mpath\u001b[38;5;241m.\u001b[39mappend( otilibPath)\n\u001b[0;32m     11\u001b[0m \u001b[38;5;28;01mimport\u001b[39;00m \u001b[38;5;21;01mnumpy\u001b[39;00m \u001b[38;5;28;01mas\u001b[39;00m \u001b[38;5;21;01mnp\u001b[39;00m\n\u001b[1;32m---> 13\u001b[0m \u001b[38;5;28;01mimport\u001b[39;00m \u001b[38;5;21;01mpyoti\u001b[39;00m\u001b[38;5;21;01m.\u001b[39;00m\u001b[38;5;21;01mcore\u001b[39;00m   \u001b[38;5;28;01mas\u001b[39;00m \u001b[38;5;21;01mcoti\u001b[39;00m \u001b[38;5;66;03m# Core functions\u001b[39;00m\n\u001b[0;32m     14\u001b[0m \u001b[38;5;28;01mimport\u001b[39;00m \u001b[38;5;21;01mpyoti\u001b[39;00m\u001b[38;5;21;01m.\u001b[39;00m\u001b[38;5;21;01msparse\u001b[39;00m \u001b[38;5;28;01mas\u001b[39;00m \u001b[38;5;21;01moti\u001b[39;00m  \u001b[38;5;66;03m# Imaginary algebra\u001b[39;00m\n\u001b[0;32m     16\u001b[0m \u001b[38;5;28;01mfrom\u001b[39;00m \u001b[38;5;21;01mtse_uq\u001b[39;00m \u001b[38;5;28;01mimport\u001b[39;00m tse_alg_moments_sob\n",
      "\u001b[1;31mModuleNotFoundError\u001b[0m: No module named 'pyoti.core'"
     ]
    }
   ],
   "source": [
    "tseuqlibPath = \"/mnt/c/Users/xop139/Documents/Python Research/tseuqlib/modules\"\n",
    "\n",
    "import sys\n",
    "sys.path.append(tseuqlibPath)\n",
    "\n",
    "# path to otilib \n",
    "otilibPath = \"/mnt/c/Users/xop139/Documents/Python Research/tseuqlib/otilib/build\"\n",
    "\n",
    "# append paths\n",
    "sys.path.append( otilibPath)\n",
    "import numpy as np\n",
    "\n",
    "import pyoti.core   as coti # Core functions\n",
    "import pyoti.sparse as oti  # Imaginary algebra\n",
    "\n",
    "from tse_uq import tse_alg_moments_sob\n",
    "from rvMoments import *\n",
    "from TSEmoment import *"
   ]
  },
  {
   "cell_type": "code",
   "execution_count": 16,
   "id": "77df5c16",
   "metadata": {},
   "outputs": [
    {
     "name": "stdout",
     "output_type": "stream",
     "text": [
      "Requirement already satisfied: pyoti in c:\\users\\xop139\\appdata\\local\\anaconda3\\lib\\site-packages (0.3.3.2)\n",
      "Requirement already satisfied: requests in c:\\users\\xop139\\appdata\\local\\anaconda3\\lib\\site-packages (from pyoti) (2.31.0)\n",
      "Requirement already satisfied: aiodns in c:\\users\\xop139\\appdata\\local\\anaconda3\\lib\\site-packages (from pyoti) (3.2.0)\n",
      "Requirement already satisfied: disposable-email-domains in c:\\users\\xop139\\appdata\\local\\anaconda3\\lib\\site-packages (from pyoti) (0.0.100)\n",
      "Requirement already satisfied: pycares>=4.0.0 in c:\\users\\xop139\\appdata\\local\\anaconda3\\lib\\site-packages (from aiodns->pyoti) (4.4.0)\n",
      "Requirement already satisfied: charset-normalizer<4,>=2 in c:\\users\\xop139\\appdata\\local\\anaconda3\\lib\\site-packages (from requests->pyoti) (2.0.4)\n",
      "Requirement already satisfied: idna<4,>=2.5 in c:\\users\\xop139\\appdata\\local\\anaconda3\\lib\\site-packages (from requests->pyoti) (3.4)\n",
      "Requirement already satisfied: urllib3<3,>=1.21.1 in c:\\users\\xop139\\appdata\\local\\anaconda3\\lib\\site-packages (from requests->pyoti) (1.26.16)\n",
      "Requirement already satisfied: certifi>=2017.4.17 in c:\\users\\xop139\\appdata\\local\\anaconda3\\lib\\site-packages (from requests->pyoti) (2023.11.17)\n",
      "Requirement already satisfied: cffi>=1.5.0 in c:\\users\\xop139\\appdata\\local\\anaconda3\\lib\\site-packages (from pycares>=4.0.0->aiodns->pyoti) (1.15.1)\n",
      "Requirement already satisfied: pycparser in c:\\users\\xop139\\appdata\\local\\anaconda3\\lib\\site-packages (from cffi>=1.5.0->pycares>=4.0.0->aiodns->pyoti) (2.21)\n"
     ]
    }
   ],
   "source": [
    "!pip install pyoti"
   ]
  },
  {
   "cell_type": "code",
   "execution_count": 17,
   "id": "adeae9db",
   "metadata": {},
   "outputs": [],
   "source": [
    "def true_function(x):\n",
    "    return x[0] + 2*x[1] + 3*x[2]"
   ]
  },
  {
   "cell_type": "code",
   "execution_count": 18,
   "id": "db19fe5f",
   "metadata": {},
   "outputs": [],
   "source": [
    "def true_function_oti(x, order=1):\n",
    "    return (x[0] + oti.e(int(1), order = order)) + 2*(x[1] + oti.e(int(2), order = order)) + 3*(x[2] + oti.e(int(3), order = order))\n"
   ]
  },
  {
   "cell_type": "code",
   "execution_count": 19,
   "id": "3a2f3909",
   "metadata": {},
   "outputs": [],
   "source": [
    "rv_pdf_name = np.array(['N', 'N', 'N'])\n",
    "rv_mean     = np.array([1, 2, 3])\n",
    "rv_stdev    = rv_mean*np.array([0.05, 0.10, 0.15])\n",
    "\n",
    "rvParam = [rv_pdf_name, rv_mean, rv_stdev, rv_mean, rv_stdev]\n",
    "\n",
    "tse_order_max = 1\n"
   ]
  },
  {
   "cell_type": "code",
   "execution_count": 20,
   "id": "c9c0770e",
   "metadata": {},
   "outputs": [
    {
     "ename": "NameError",
     "evalue": "name 'oti' is not defined",
     "output_type": "error",
     "traceback": [
      "\u001b[1;31m---------------------------------------------------------------------------\u001b[0m",
      "\u001b[1;31mNameError\u001b[0m                                 Traceback (most recent call last)",
      "Cell \u001b[1;32mIn[20], line 3\u001b[0m\n\u001b[0;32m      1\u001b[0m f_mean \u001b[38;5;241m=\u001b[39m true_function(rv_mean)\n\u001b[1;32m----> 3\u001b[0m f_tse \u001b[38;5;241m=\u001b[39m true_function_oti(rv_mean, order\u001b[38;5;241m=\u001b[39mtse_order_max)\n\u001b[0;32m      5\u001b[0m \u001b[38;5;28mprint\u001b[39m(f_tse)\n\u001b[0;32m      6\u001b[0m \u001b[38;5;28mprint\u001b[39m(f_tse\u001b[38;5;241m.\u001b[39mreal)\n",
      "Cell \u001b[1;32mIn[18], line 2\u001b[0m, in \u001b[0;36mtrue_function_oti\u001b[1;34m(x, order)\u001b[0m\n\u001b[0;32m      1\u001b[0m \u001b[38;5;28;01mdef\u001b[39;00m \u001b[38;5;21mtrue_function_oti\u001b[39m(x, order\u001b[38;5;241m=\u001b[39m\u001b[38;5;241m1\u001b[39m):\n\u001b[1;32m----> 2\u001b[0m     \u001b[38;5;28;01mreturn\u001b[39;00m (x[\u001b[38;5;241m0\u001b[39m] \u001b[38;5;241m+\u001b[39m oti\u001b[38;5;241m.\u001b[39me(\u001b[38;5;28mint\u001b[39m(\u001b[38;5;241m1\u001b[39m), order \u001b[38;5;241m=\u001b[39m order)) \u001b[38;5;241m+\u001b[39m \u001b[38;5;241m2\u001b[39m\u001b[38;5;241m*\u001b[39m(x[\u001b[38;5;241m1\u001b[39m] \u001b[38;5;241m+\u001b[39m oti\u001b[38;5;241m.\u001b[39me(\u001b[38;5;28mint\u001b[39m(\u001b[38;5;241m2\u001b[39m), order \u001b[38;5;241m=\u001b[39m order)) \u001b[38;5;241m+\u001b[39m \u001b[38;5;241m3\u001b[39m\u001b[38;5;241m*\u001b[39m(x[\u001b[38;5;241m2\u001b[39m] \u001b[38;5;241m+\u001b[39m oti\u001b[38;5;241m.\u001b[39me(\u001b[38;5;28mint\u001b[39m(\u001b[38;5;241m3\u001b[39m), order \u001b[38;5;241m=\u001b[39m order))\n",
      "\u001b[1;31mNameError\u001b[0m: name 'oti' is not defined"
     ]
    }
   ],
   "source": [
    "f_mean = true_function(rv_mean)\n",
    "\n",
    "f_tse = true_function_oti(rv_mean, order=tse_order_max)\n",
    "\n",
    "print(f_tse)\n",
    "print(f_tse.real)\n",
    "print(f_tse.get_deriv(1))\n",
    "print(f_tse.get_deriv(2))\n",
    "print(f_tse.get_deriv(3))\n",
    "\n",
    "tse_moment, Si_tse, Sij_tse, Sijk_tse, V_terms = tse_alg_moments_sob([f_tse], None, rvParam, tse_order_max, calc_central_moments=None, print_status=False)\n",
    "\n",
    "print(tse_moment)\n",
    "print(Si_tse)\n"
   ]
  },
  {
   "cell_type": "code",
   "execution_count": null,
   "id": "5df91e58",
   "metadata": {},
   "outputs": [],
   "source": []
  },
  {
   "cell_type": "code",
   "execution_count": null,
   "id": "b7976532",
   "metadata": {},
   "outputs": [],
   "source": []
  }
 ],
 "metadata": {
  "kernelspec": {
   "display_name": "Python 3 (ipykernel)",
   "language": "python",
   "name": "python3"
  },
  "language_info": {
   "codemirror_mode": {
    "name": "ipython",
    "version": 3
   },
   "file_extension": ".py",
   "mimetype": "text/x-python",
   "name": "python",
   "nbconvert_exporter": "python",
   "pygments_lexer": "ipython3",
   "version": "3.11.5"
  }
 },
 "nbformat": 4,
 "nbformat_minor": 5
}
